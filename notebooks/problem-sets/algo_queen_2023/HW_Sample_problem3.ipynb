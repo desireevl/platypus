{
 "cells": [
  {
   "cell_type": "markdown",
   "id": "dc683864-cff1-43cf-997d-c881e602bd39",
   "metadata": {},
   "source": [
    "# Sample Problem 3: Creating a half adder circuit using Quantum gates\n",
    "\n",
    "Here is another for you to play with and get the feel of how to grade problems on the platform! We will make our own half adder using Qiskit. \n",
    "\n",
    "The expected input and output datatypes are mentioned in the portal.\n",
    "\n"
   ]
  },
  {
   "cell_type": "markdown",
   "id": "bab97cbb-299d-417e-aa78-d87342f0346c",
   "metadata": {},
   "source": [
    "## Half Adder\n",
    "The half adder is used to add together the two least significant digits in a binary sum.\n",
    "It has two single binary inputs, called A and B, and two outputs C (carry out) and S (sum).\n",
    "The output C will be used as an input to the Full Adder, which will be explained later, for obtaining the value in the higher digit.\n",
    "\n",
    "Half adders can be described with the truth table shown below.\n",
    "\n",
    "|A (input)|B (input)|S (sum)|C (carry out)|\n",
    "|-----------|------------|------------|------------|\n",
    "|0|0|0|0|\n",
    "|0|1|1|0|\n",
    "|1|0|1|0|\n",
    "|1|1|0|1|\n",
    "\n",
    "From the truth table, you should notice that the carry output, C, is a result of operating an AND gate against A and B, where the output S is a result of operating an XOR against A and B.\n",
    "As we have already created the AND and XOR gates, we can combine these gates and create a half adder as follows.\n",
    "\n",
    "We make a QuantumCircuit of 4 quantum registers and 2 classical registers and assign inputs A and B to qubit 0 and qubit 1, the sum output S and carry output C to qubit 2 and qubit 3."
   ]
  },
  {
   "cell_type": "code",
   "execution_count": null,
   "id": "6491374d-51b3-4f9e-86de-7e8e0e3bfc59",
   "metadata": {},
   "outputs": [],
   "source": [
    "from __future__ import annotations\n",
    "\n",
    "import math\n",
    "\n",
    "from qiskit.tools.visualization import plot_histogram\n",
    "from qiskit.quantum_info import Statevector\n",
    "from qiskit import QuantumCircuit, qpy, execute\n",
    "from qiskit_aer import Aer\n",
    "\n",
    "class QiskitHelloWorld:\n",
    "    \"\"\"\n",
    "    - Assume your qubits start in the 0 state\n",
    "    - Declare a QuantumCircuit of two qubits and apply hadamard gates to each of the qubits\n",
    "    - To grade succesfully, return the QuantumCircuit variable and click on test to check your answer and click submit to confirm your submission!\n",
    "    \"\"\"\n",
    "    def getHalfAdder(self, ) -> QuantumCircuit:\n",
    "        ##### Enter your code below! #####\n",
    "\n",
    "        ##### Enter your code above! #####\n",
    "        qc.measure(2,0)\n",
    "        qc.measure(3,1)\n",
    "\n",
    "        return qc"
   ]
  },
  {
   "cell_type": "code",
   "execution_count": null,
   "id": "e92d71da-8d10-4dbf-a207-1b6692237b0d",
   "metadata": {},
   "outputs": [],
   "source": [
    "qc = QiskitHelloWorld().getHalfAdder()\n",
    "\n",
    "backend = Aer.get_backend('aer_simulator')\n",
    "\n",
    "# Run the circuit and get counts\n",
    "result = backend.run(qc, shots = 1024).result()\n",
    "counts = result.get_counts()\n",
    "print(counts)\n",
    "\n",
    "# Draw the circuit\n",
    "qc.draw(\"mpl\")"
   ]
  },
  {
   "cell_type": "code",
   "execution_count": null,
   "id": "4fcfa162-b326-47db-afb4-6e15d822dde8",
   "metadata": {},
   "outputs": [],
   "source": []
  }
 ],
 "metadata": {
  "kernelspec": {
   "display_name": "Python 3 (ipykernel)",
   "language": "python",
   "name": "python3"
  },
  "language_info": {
   "codemirror_mode": {
    "name": "ipython",
    "version": 3
   },
   "file_extension": ".py",
   "mimetype": "text/x-python",
   "name": "python",
   "nbconvert_exporter": "python",
   "pygments_lexer": "ipython3",
   "version": "3.10.4"
  }
 },
 "nbformat": 4,
 "nbformat_minor": 5
}
