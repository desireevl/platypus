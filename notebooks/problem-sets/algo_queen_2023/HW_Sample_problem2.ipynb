{
 "cells": [
  {
   "cell_type": "markdown",
   "id": "15c09187-fa86-450e-8636-242b95f58e7c",
   "metadata": {},
   "source": [
    "# Sample Problem 2: Creating an XOR gate using Quantum gates\n",
    "\n",
    "Here is another for you to play with and get the feel of how to grade problems on the platform! We will make our own XOR Gate using Quantum gates on Qiskit. \n",
    "\n",
    "The expected input and output datatypes are mentioned in the portal.\n",
    "\n",
    "Let's start creating a classic logic gate using quantum gates. We will try to recreate a classical gate that follows the truth tables will be shown. \n",
    "\n",
    "### XOR Gate\n",
    "|A(input)|B(input)|output|\n",
    "|--|--|--|\n",
    "|0|0|0|\n",
    "|0|1|1|\n",
    "|1|0|1|\n",
    "|1|1|0|\n",
    "\n",
    "In quantum computers, the job of the XOR gate is done by the ‘controlled-NOT gate’. Since that's quite a long name, we usually just call it the ‘CNOT’. In circuit diagrams, it is drawn as in the image below. This is applied to a pair of qubits. One acts as the control qubit (this is the one with the little dot). The other acts as the target qubit (with the big circle and cross - kind of like a target mark).\n",
    "\n",
    "![](https://storage.googleapis.com/cdcontent/contents/2050/attachments/assets/cnot_xor.svg)\n",
    "\n",
    "In Qiskit, we can use the .cx() method to add a CNOT to our circuit. We need to give the indices of the two qubits it acts on as arguments. \n",
    "\n",
    "Complete to block below and define a 2 qubit circuit and apply a gate operation that will represent the XOR gate as above:\n",
    "\n",
    "## Input\n",
    "A quantum circuit of type `QuantumCircuit` with two qubits\n",
    "\n",
    "## Output \n",
    "A quantum circuit of type `QuantumCircuit` with the required equivalent XOR gate\n"
   ]
  },
  {
   "cell_type": "code",
   "execution_count": null,
   "id": "2de07f1c-aa08-44c5-afb0-1a40e829e07c",
   "metadata": {},
   "outputs": [],
   "source": [
    "from __future__ import annotations\n",
    "\n",
    "import math\n",
    "\n",
    "from qiskit.tools.visualization import plot_histogram\n",
    "from qiskit.quantum_info import Statevector\n",
    "from qiskit import QuantumCircuit, qpy, execute\n",
    "from qiskit_aer import Aer\n",
    "\n",
    "class QiskitHelloWorld:\n",
    "    \"\"\"\n",
    "    - Assume your qubits start in the 0 state\n",
    "    - Declare a QuantumCircuit of two qubits and try to recreate the XOR gate\n",
    "    - To grade succesfully, return the QuantumCircuit variable and click on test to check your answer and click submit to confirm your submission!\n",
    "    \"\"\"\n",
    "    def getXORGate(self, ) -> QuantumCircuit:\n",
    "        ##### Enter your code below! #####\n",
    "        # Create your circuit\n",
    "        \n",
    "        # Apply gates to your circuit\n",
    "        \n",
    "        ##### Enter your code above! #####\n",
    "        qc.measure_all()\n",
    "\n",
    "        return qc"
   ]
  },
  {
   "cell_type": "code",
   "execution_count": null,
   "id": "44b71c15-8523-4335-97db-10d3411853bf",
   "metadata": {},
   "outputs": [],
   "source": [
    "# Run this cell to view your quantum circuit\n",
    "qc = QiskitHelloWorld().getXORGate()\n",
    "qc.draw(output=\"mpl\")"
   ]
  }
 ],
 "metadata": {
  "kernelspec": {
   "display_name": "Python 3 (ipykernel)",
   "language": "python",
   "name": "python3"
  },
  "language_info": {
   "codemirror_mode": {
    "name": "ipython",
    "version": 3
   },
   "file_extension": ".py",
   "mimetype": "text/x-python",
   "name": "python",
   "nbconvert_exporter": "python",
   "pygments_lexer": "ipython3",
   "version": "3.10.4"
  }
 },
 "nbformat": 4,
 "nbformat_minor": 5
}
